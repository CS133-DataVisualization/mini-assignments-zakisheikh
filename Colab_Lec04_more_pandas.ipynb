{
  "cells": [
    {
      "cell_type": "markdown",
      "metadata": {
        "id": "kNhwcVlNkaW5"
      },
      "source": [
        "# More practice with pandas\n",
        "\n",
        "\n",
        "### Objective of this notebook\n",
        "Using the same dataset that we used in Colab_Lec03, let's practice more data exploration."
      ]
    },
    {
      "cell_type": "code",
      "execution_count": 1,
      "metadata": {
        "id": "Uq2yPFhxkaW-"
      },
      "outputs": [],
      "source": [
        "# Import libraries\n",
        "import pandas as pd"
      ]
    },
    {
      "cell_type": "code",
      "execution_count": 3,
      "metadata": {
        "id": "j0NKk1UMkaXK"
      },
      "outputs": [],
      "source": [
        "# Read in the movie data set\n",
        "movie_filepath = 'https://raw.githubusercontent.com/csbfx/advpy122-data/master/top_movies_2020.csv'\n",
        "movies_df = pd.read_csv(movie_filepath)"
      ]
    },
    {
      "cell_type": "markdown",
      "metadata": {
        "id": "ynPM1GQtkaXL"
      },
      "source": [
        "Recall, how do you find out information and details of your dataset?\n",
        "\n"
      ]
    },
    {
      "cell_type": "code",
      "execution_count": 5,
      "metadata": {
        "id": "pGm6I_PqkaXM",
        "colab": {
          "base_uri": "https://localhost:8080/"
        },
        "outputId": "c67d2b21-0bec-4188-883f-57030b07df75"
      },
      "outputs": [
        {
          "output_type": "stream",
          "name": "stdout",
          "text": [
            "Size of the table: 800\n",
            "Data types of each column:\n",
            " Title               object\n",
            "Gross                int64\n",
            "Gross (Adjusted)     int64\n",
            "Year                 int64\n",
            "dtype: object\n",
            "Number of missing values in each column:\n",
            " Title               0\n",
            "Gross               0\n",
            "Gross (Adjusted)    0\n",
            "Year                0\n",
            "dtype: int64\n"
          ]
        }
      ],
      "source": [
        "## What is the size of the table?\n",
        "table_size = movies_df.size\n",
        "print(\"Size of the table:\", table_size)\n",
        "## What are the data type of each of the columns in the table?\n",
        "column_dtypes = movies_df.dtypes\n",
        "print(\"Data types of each column:\\n\", column_dtypes)\n",
        "## How many missing values are in each column?\n",
        "missing_values = movies_df.isna().sum()\n",
        "print(\"Number of missing values in each column:\\n\", missing_values)"
      ]
    },
    {
      "cell_type": "markdown",
      "metadata": {
        "id": "GezY-98WkaXP"
      },
      "source": [
        "## Questions to find the next blockbuster\n",
        "Let's get some information about trends in movie's gross to decide which movie were popular and high grossing so we can make a pitch for the next blockbuster. Use either tables or plots to answer the following questions."
      ]
    },
    {
      "cell_type": "code",
      "source": [
        "## Q1: What was the max Gross and Gross adj from any movie?\n",
        "## df.column.max() will return for you max value in the column you specify\n",
        "max_gross = movies_df.Gross.max()\n",
        "print(\"The maximum value in the Gross column is:\", max_gross)\n",
        "max_gross_adj = movies_df['Gross (Adjusted)'].max()\n",
        "print(\"The maximum value in the Gross (Adjusted) column is:\", max_gross_adj)\n",
        "## Q2: Are they the same movie?\n",
        "## You can look at the index that has your row of interest by setting == to the max value\n",
        "max_gross_movie = movies_df[movies_df.Gross == max_gross]\n",
        "max_gross_adj_movie = movies_df[movies_df['Gross (Adjusted)'] == max_gross_adj]\n",
        "same_movie = max_gross_movie.equals(max_gross_adj_movie)\n",
        "print(\"Are the two movies the same?\", same_movie)\n"
      ],
      "metadata": {
        "id": "yTr96e8EY_yA",
        "colab": {
          "base_uri": "https://localhost:8080/"
        },
        "outputId": "e9c5517e-c44e-43f2-ccdd-88de9966bc2b"
      },
      "execution_count": 24,
      "outputs": [
        {
          "output_type": "stream",
          "name": "stdout",
          "text": [
            "The maximum value in the Gross column is: 936662225\n",
            "The maximum value in the Gross (Adjusted) column is: 1895421694\n",
            "Are the two movies the same? False\n"
          ]
        }
      ]
    },
    {
      "cell_type": "code",
      "source": [
        "## Q2: What was the top performing movie for each decade?\n",
        "## Using groupby allows us to group together rows within a column\n",
        "movies_df['Decade'] = (movies_df['Year'] // 10) * 10\n",
        "top_movies_by_decade = movies_df.groupby('Decade').apply(lambda x: x.nlargest(1, 'Gross'))\n",
        "print(top_movies_by_decade)"
      ],
      "metadata": {
        "id": "YLPMLRM0ZQkE",
        "colab": {
          "base_uri": "https://localhost:8080/"
        },
        "outputId": "2582b891-f4ff-49bd-95ff-820b58022a06"
      },
      "execution_count": 28,
      "outputs": [
        {
          "output_type": "stream",
          "name": "stdout",
          "text": [
            "                                                 Title      Gross  \\\n",
            "Decade                                                              \n",
            "1920   136         The Four Horsemen of the Apocalypse    9183673   \n",
            "1930   0                            Gone with the Wind  200852579   \n",
            "1940   54                                        Bambi  102247150   \n",
            "1950   82                           Lady and the Tramp   93602326   \n",
            "1960   2                            The Sound of Music  159287539   \n",
            "1970   1            Star Wars: Episode IV - A New Hope  460998507   \n",
            "1980   3                    E.T. the Extra-Terrestrial  435110554   \n",
            "1990   4                                       Titanic  659363944   \n",
            "2000   14                                       Avatar  760507625   \n",
            "2010   10   Star Wars: Episode VII - The Force Awakens  936662225   \n",
            "\n",
            "            Gross (Adjusted)  Year  Decade  \n",
            "Decade                                      \n",
            "1920   136         430255408  1921    1920  \n",
            "1930   0          1895421694  1939    1930  \n",
            "1940   54          596985188  1942    1940  \n",
            "1950   82          522236013  1955    1950  \n",
            "1960   2          1335086324  1965    1960  \n",
            "1970   1          1668979715  1977    1970  \n",
            "1980   3          1329174791  1982    1980  \n",
            "1990   4          1270101626  1997    1990  \n",
            "2000   14          911790952  2009    2000  \n",
            "2010   10         1013038487  2015    2010  \n"
          ]
        }
      ]
    },
    {
      "cell_type": "code",
      "source": [
        "## Q3: To ask if people watch movies more now then in the pass, we are going to ask over the years, is there a difference in the Gross adj over time?\n",
        "correlation = movies_df['Year'].corr(movies_df['Gross (Adjusted)'])\n",
        "print(correlation)\n",
        "if correlation > 0:\n",
        "    print(\"There is a positive correlation, suggesting that on average, movies have been grossing more (adjusted for inflation) over time.\")\n",
        "elif correlation < 0:\n",
        "    print(\"There is a negative correlation, suggesting that on average, movies have been grossing less (adjusted for inflation) over time.\")\n",
        "else:\n",
        "    print(\"There is no significant correlation between Year and Gross (Adjusted).\")\n",
        "## Q4: In addition, are there more top titles being release now compared to the past years?\n",
        "titles_per_year = movies_df.groupby('Year')['Title'].count().reset_index()\n",
        "titles_per_year.columns = ['Year', 'Number of Titles']\n",
        "\n",
        "print(\"Number of Top Titles per Year:\")\n",
        "print(titles_per_year)\n",
        "\n",
        "correlation = titles_per_year['Year'].corr(titles_per_year['Number of Titles'])\n",
        "print(correlation)\n",
        "\n",
        "if correlation > 0:\n",
        "    print(\"There is a positive correlation, suggesting that more top titles are being released over time.\")\n",
        "elif correlation < 0:\n",
        "    print(\"There is a negative correlation, suggesting that fewer top titles are being released over time.\")\n",
        "else:\n",
        "    print(\"There is no significant correlation between Year and the number of titles released.\")"
      ],
      "metadata": {
        "id": "Y4DJGty9ZWZF",
        "colab": {
          "base_uri": "https://localhost:8080/"
        },
        "outputId": "232f9587-1b1f-4e2a-c826-46eb27fbb1cf"
      },
      "execution_count": 37,
      "outputs": [
        {
          "output_type": "stream",
          "name": "stdout",
          "text": [
            "-0.2945352655218526\n",
            "There is a negative correlation, suggesting that on average, movies have been grossing less (adjusted for inflation) over time.\n",
            "Number of Top Titles per Year:\n",
            "    Year  Number of Titles\n",
            "0   1921                 1\n",
            "1   1937                 1\n",
            "2   1939                 1\n",
            "3   1940                 1\n",
            "4   1941                 2\n",
            "..   ...               ...\n",
            "69  2015                 6\n",
            "70  2016                 7\n",
            "71  2017                 5\n",
            "72  2018                 4\n",
            "73  2019                 7\n",
            "\n",
            "[74 rows x 2 columns]\n",
            "0.6360911409033428\n",
            "There is a positive correlation, suggesting that more top titles are being released over time.\n"
          ]
        }
      ]
    },
    {
      "cell_type": "markdown",
      "source": [
        "What other information do you wish this table included that would have helped us find that next new movie?"
      ],
      "metadata": {
        "id": "niHMDzroakgQ"
      }
    },
    {
      "cell_type": "markdown",
      "source": [
        "# Working with tsv\n",
        "Pandas is able to work with tab-delimited files as well as comma-delimited files. In the case of tab-delimited, we need to specify the delimiter by using the 'sep' keyword argument."
      ],
      "metadata": {
        "id": "sH7qGpL8a32E"
      }
    },
    {
      "cell_type": "code",
      "source": [
        "euk_filepath = \"https://raw.githubusercontent.com/csbfx/advpy122-data/master/euk.tsv\"\n",
        "euk_df = pd.read_csv(euk_filepath, sep='\\t')"
      ],
      "metadata": {
        "id": "my910Rd0bUNB"
      },
      "execution_count": 39,
      "outputs": []
    },
    {
      "cell_type": "code",
      "source": [
        "## Let's start with getting some information about our table. What is a quick way to do so?\n",
        "euk_df.info()"
      ],
      "metadata": {
        "id": "x5nRpNGmb87V",
        "colab": {
          "base_uri": "https://localhost:8080/"
        },
        "outputId": "f1ad59ec-862d-4770-9e97-b1e140113bea"
      },
      "execution_count": 40,
      "outputs": [
        {
          "output_type": "stream",
          "name": "stdout",
          "text": [
            "<class 'pandas.core.frame.DataFrame'>\n",
            "RangeIndex: 8302 entries, 0 to 8301\n",
            "Data columns (total 9 columns):\n",
            " #   Column              Non-Null Count  Dtype  \n",
            "---  ------              --------------  -----  \n",
            " 0   Species             8302 non-null   object \n",
            " 1   Kingdom             8302 non-null   object \n",
            " 2   Class               8302 non-null   object \n",
            " 3   Size (Mb)           8302 non-null   float64\n",
            " 4   GC%                 8302 non-null   object \n",
            " 5   Number of genes     8302 non-null   object \n",
            " 6   Number of proteins  8302 non-null   object \n",
            " 7   Publication year    8302 non-null   int64  \n",
            " 8   Assembly status     8302 non-null   object \n",
            "dtypes: float64(1), int64(1), object(7)\n",
            "memory usage: 583.9+ KB\n"
          ]
        }
      ]
    },
    {
      "cell_type": "code",
      "source": [
        "## I want to narrow down my tables to only include Fungi, how would I go about that?\n",
        "fungi_df = euk_df[euk_df['Kingdom'] == 'Fungi']\n",
        "print(fungi_df)"
      ],
      "metadata": {
        "id": "NS1WurA-ehTZ",
        "colab": {
          "base_uri": "https://localhost:8080/"
        },
        "outputId": "95726ef5-35f4-4230-d648-9d04004caa99"
      },
      "execution_count": 44,
      "outputs": [
        {
          "output_type": "stream",
          "name": "stdout",
          "text": [
            "                             Species Kingdom        Class  Size (Mb)      GC%  \\\n",
            "8     Saccharomyces cerevisiae S288C   Fungi  Ascomycetes  12.157100  38.1556   \n",
            "10          Pneumocystis carinii B80   Fungi  Ascomycetes   7.661460     27.8   \n",
            "11         Schizosaccharomyces pombe   Fungi  Ascomycetes  12.591300  36.0381   \n",
            "12      Aspergillus nidulans FGSC A4   Fungi  Ascomycetes  30.276000  50.2721   \n",
            "13       Aspergillus fumigatus Af293   Fungi  Ascomycetes  29.385000  49.8105   \n",
            "...                              ...     ...          ...        ...      ...   \n",
            "8297        Saccharomyces cerevisiae   Fungi  Ascomycetes   3.993920     38.2   \n",
            "8298        Saccharomyces cerevisiae   Fungi  Ascomycetes   0.586761  38.5921   \n",
            "8299        Saccharomyces cerevisiae   Fungi  Ascomycetes  12.020400  38.2971   \n",
            "8300        Saccharomyces cerevisiae   Fungi  Ascomycetes  11.960900  38.2413   \n",
            "8301        Saccharomyces cerevisiae   Fungi  Ascomycetes  11.820700  38.2536   \n",
            "\n",
            "     Number of genes Number of proteins  Publication year  Assembly status  \n",
            "8               6445               6002              1999  Complete Genome  \n",
            "10              3695               3646              2015           Contig  \n",
            "11              6974               5132              2002       Chromosome  \n",
            "12              9586               9556              2003         Scaffold  \n",
            "13             19832              19260              2005       Chromosome  \n",
            "...              ...                ...               ...              ...  \n",
            "8297               -                  -              2017         Scaffold  \n",
            "8298             155                298              1992       Chromosome  \n",
            "8299               -                  -              2018       Chromosome  \n",
            "8300               -                  -              2018       Chromosome  \n",
            "8301               -                  -              2018       Chromosome  \n",
            "\n",
            "[4494 rows x 9 columns]\n"
          ]
        }
      ]
    },
    {
      "cell_type": "code",
      "source": [
        "## Let's further narrow down the table to look at Funggi that has genome size > 100. How many specimens remain?\n",
        "fungi_over_100 = fungi_df[fungi_df['Size (Mb)'] > 100]\n",
        "print(fungi_over_100)"
      ],
      "metadata": {
        "id": "aImPLPTXevjV",
        "colab": {
          "base_uri": "https://localhost:8080/"
        },
        "outputId": "f51a2555-78a6-4373-fd56-b38e7ca80258"
      },
      "execution_count": 45,
      "outputs": [
        {
          "output_type": "stream",
          "name": "stdout",
          "text": [
            "                                       Species Kingdom           Class  \\\n",
            "323       Blumeria graminis f. sp. hordei DH14   Fungi     Ascomycetes   \n",
            "347         Puccinia triticina 1-1 BBBD Race 1   Fungi  Basidiomycetes   \n",
            "354                         Tuber melanosporum   Fungi     Ascomycetes   \n",
            "372        Puccinia striiformis f. sp. tritici   Fungi  Basidiomycetes   \n",
            "427          Melampsora larici-populina 98AG31   Fungi  Basidiomycetes   \n",
            "...                                        ...     ...             ...   \n",
            "6406                   Rhizophagus irregularis   Fungi     Other Fungi   \n",
            "6502                   Rhizophagus irregularis   Fungi     Other Fungi   \n",
            "6511                   Rhizophagus irregularis   Fungi     Other Fungi   \n",
            "6520                      Puccinia striiformis   Fungi  Basidiomycetes   \n",
            "6579  Puccinia striiformis f. sp. tritici CY32   Fungi  Basidiomycetes   \n",
            "\n",
            "      Size (Mb)   GC% Number of genes Number of proteins  Publication year  \\\n",
            "323     124.489  43.5               -                  -              2018   \n",
            "347     135.344  36.8           15539              15685              2009   \n",
            "354     124.946  44.9            7496               7496              2010   \n",
            "372     156.834  44.4               -                  -              2018   \n",
            "427     101.129  41.3           16380              16372              2011   \n",
            "...         ...   ...             ...                ...               ...   \n",
            "6406    131.335  25.8           24574              24485              2016   \n",
            "6502    211.467     -               -                  -              2018   \n",
            "6511    156.891     -               -                  -              2018   \n",
            "6520    144.837  44.2               -                  -              2019   \n",
            "6579    130.485  45.2               -                  -              2013   \n",
            "\n",
            "     Assembly status  \n",
            "323         Scaffold  \n",
            "347         Scaffold  \n",
            "354         Scaffold  \n",
            "372           Contig  \n",
            "427         Scaffold  \n",
            "...              ...  \n",
            "6406        Scaffold  \n",
            "6502        Scaffold  \n",
            "6511        Scaffold  \n",
            "6520        Scaffold  \n",
            "6579        Scaffold  \n",
            "\n",
            "[76 rows x 9 columns]\n"
          ]
        }
      ]
    },
    {
      "cell_type": "code",
      "source": [
        "## Which species are in our table, that is Fungi with genome size > 100 Mb\n",
        "species_over_100 = fungi_over_100['Species'].unique()\n",
        "print(species_over_100)\n"
      ],
      "metadata": {
        "id": "9feGpgCefKM3",
        "colab": {
          "base_uri": "https://localhost:8080/"
        },
        "outputId": "ac820b6f-8c80-4701-b195-0ed29fd12a20"
      },
      "execution_count": 46,
      "outputs": [
        {
          "output_type": "stream",
          "name": "stdout",
          "text": [
            "['Blumeria graminis f. sp. hordei DH14'\n",
            " 'Puccinia triticina 1-1 BBBD Race 1' 'Tuber melanosporum'\n",
            " 'Puccinia striiformis f. sp. tritici' 'Melampsora larici-populina 98AG31'\n",
            " 'Ophiocordyceps sinensis' 'Gigaspora rosea'\n",
            " 'Leucoagaricus gongylophorus Ac12' 'Hemileia vastatrix HvCat'\n",
            " 'Cenococcum geophilum 1.58' 'Tricholoma matsutake'\n",
            " 'Choiromyces venosus 120613-1' 'Sphaerobolus stellatus SS14'\n",
            " 'Rhizophagus irregularis DAOM 181602=DAOM 197198' 'Oehlia diaphana'\n",
            " 'Glomus cerebriforme' 'Austropuccinia psidii' 'Uromyces viciae-fabae'\n",
            " 'Leucoagaricus sp. SymC.cos' 'Smittium mucronatum'\n",
            " 'Neocallimastix californiae' 'Pecoramyces ruminatium'\n",
            " 'Puccinia coronata var. avenae f. sp. avenae' 'Uromyces transversalis'\n",
            " 'Tuber magnatum' 'Rhizophagus clarus' 'Cantharellus appalachiensis'\n",
            " 'Cantharellus lutescens' 'Tricholoma bakamatsutake'\n",
            " 'Tricholoma flavovirens' 'Albatrellus ellisii' 'Chroogomphus rutilus'\n",
            " 'Gomphus sp. MG54' 'Tricholoma sp. MG77' 'Tuber calosporum'\n",
            " 'Gomphus bonarii' 'Rhizophagus sp. MUCL 43196' 'Jimgerdemannia lactiflua'\n",
            " 'Jimgerdemannia flammicorona' 'Neonothopanus nambi'\n",
            " 'Monosporascus sp. CRB-8-3' 'Colletotrichum trifolii'\n",
            " 'Diversispora epigaea' 'Verticillium longisporum'\n",
            " 'Basidiobolus meristosporus B9252' 'Diaporthe longicolla MSPL 10-6'\n",
            " 'Puccinia graminis f. sp. tritici' 'Puccinia triticina Race 106'\n",
            " 'Pleurotus eryngii' 'Blumeria graminis f. sp. tritici 96224'\n",
            " 'Rhizophagus irregularis DAOM 197198w' 'Blumeria graminis f. sp. hordei'\n",
            " 'Rhizophagus irregularis' 'Blumeria graminis f. sp. hordei K1'\n",
            " 'Puccinia striiformis f. sp. tritici PST-78' 'Puccinia striiformis'\n",
            " 'Puccinia striiformis f. sp. tritici CY32']\n"
          ]
        }
      ]
    },
    {
      "cell_type": "markdown",
      "source": [
        "Next class we will do some more data exploration"
      ],
      "metadata": {
        "id": "Nq2mtZ6Tfgto"
      }
    }
  ],
  "metadata": {
    "kernelspec": {
      "display_name": "Python 3",
      "language": "python",
      "name": "python3"
    },
    "language_info": {
      "codemirror_mode": {
        "name": "ipython",
        "version": 3
      },
      "file_extension": ".py",
      "mimetype": "text/x-python",
      "name": "python",
      "nbconvert_exporter": "python",
      "pygments_lexer": "ipython3",
      "version": "3.7.6"
    },
    "colab": {
      "provenance": [],
      "history_visible": true
    }
  },
  "nbformat": 4,
  "nbformat_minor": 0
}